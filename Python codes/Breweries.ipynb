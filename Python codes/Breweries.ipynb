{
 "cells": [
  {
   "cell_type": "code",
   "execution_count": 1,
   "id": "3b5d8105",
   "metadata": {},
   "outputs": [],
   "source": [
    "#import libraries\n",
    "import pandas as pd\n",
    "import matplotlib.pyplot as plt"
   ]
  },
  {
   "cell_type": "code",
   "execution_count": 2,
   "id": "5f470cbe",
   "metadata": {},
   "outputs": [],
   "source": [
    "#load data\n",
    "df = pd.read_csv('International Breweries.csv')"
   ]
  },
  {
   "cell_type": "markdown",
   "id": "525f8795",
   "metadata": {},
   "source": [
    "# Exploration"
   ]
  },
  {
   "cell_type": "code",
   "execution_count": 54,
   "id": "61c1b07b",
   "metadata": {},
   "outputs": [
    {
     "data": {
      "text/plain": [
       "(1047, 13)"
      ]
     },
     "execution_count": 54,
     "metadata": {},
     "output_type": "execute_result"
    }
   ],
   "source": [
    "df.shape"
   ]
  },
  {
   "cell_type": "code",
   "execution_count": 24,
   "id": "aed3553d",
   "metadata": {},
   "outputs": [
    {
     "data": {
      "text/html": [
       "<div>\n",
       "<style scoped>\n",
       "    .dataframe tbody tr th:only-of-type {\n",
       "        vertical-align: middle;\n",
       "    }\n",
       "\n",
       "    .dataframe tbody tr th {\n",
       "        vertical-align: top;\n",
       "    }\n",
       "\n",
       "    .dataframe thead th {\n",
       "        text-align: right;\n",
       "    }\n",
       "</style>\n",
       "<table border=\"1\" class=\"dataframe\">\n",
       "  <thead>\n",
       "    <tr style=\"text-align: right;\">\n",
       "      <th></th>\n",
       "      <th>SALES_ID</th>\n",
       "      <th>SALES_REP</th>\n",
       "      <th>EMAILS</th>\n",
       "      <th>BRANDS</th>\n",
       "      <th>PLANT_COST</th>\n",
       "      <th>UNIT_PRICE</th>\n",
       "      <th>QUANTITY</th>\n",
       "      <th>COST</th>\n",
       "      <th>PROFIT</th>\n",
       "      <th>COUNTRIES</th>\n",
       "      <th>REGION</th>\n",
       "      <th>MONTHS</th>\n",
       "      <th>YEARS</th>\n",
       "    </tr>\n",
       "  </thead>\n",
       "  <tbody>\n",
       "    <tr>\n",
       "      <th>0</th>\n",
       "      <td>10101</td>\n",
       "      <td>Jardine</td>\n",
       "      <td>jard@gmail.com</td>\n",
       "      <td>trophy</td>\n",
       "      <td>150</td>\n",
       "      <td>200</td>\n",
       "      <td>725</td>\n",
       "      <td>145000</td>\n",
       "      <td>36250</td>\n",
       "      <td>Ghana</td>\n",
       "      <td>Southeast</td>\n",
       "      <td>January</td>\n",
       "      <td>2019</td>\n",
       "    </tr>\n",
       "    <tr>\n",
       "      <th>1</th>\n",
       "      <td>10102</td>\n",
       "      <td>Gill</td>\n",
       "      <td>gillhell@uk.com</td>\n",
       "      <td>budweiser</td>\n",
       "      <td>250</td>\n",
       "      <td>500</td>\n",
       "      <td>815</td>\n",
       "      <td>407500</td>\n",
       "      <td>203750</td>\n",
       "      <td>Nigeria</td>\n",
       "      <td>west</td>\n",
       "      <td>February</td>\n",
       "      <td>2018</td>\n",
       "    </tr>\n",
       "    <tr>\n",
       "      <th>2</th>\n",
       "      <td>10103</td>\n",
       "      <td>Sorvino</td>\n",
       "      <td>sorvi2000@gmail.com</td>\n",
       "      <td>castle lite</td>\n",
       "      <td>180</td>\n",
       "      <td>450</td>\n",
       "      <td>937</td>\n",
       "      <td>421650</td>\n",
       "      <td>252990</td>\n",
       "      <td>Togo</td>\n",
       "      <td>southsouth</td>\n",
       "      <td>March</td>\n",
       "      <td>2018</td>\n",
       "    </tr>\n",
       "    <tr>\n",
       "      <th>3</th>\n",
       "      <td>10104</td>\n",
       "      <td>Jones</td>\n",
       "      <td>jone.ai@yahoo.com</td>\n",
       "      <td>eagle lager</td>\n",
       "      <td>170</td>\n",
       "      <td>250</td>\n",
       "      <td>765</td>\n",
       "      <td>191250</td>\n",
       "      <td>61200</td>\n",
       "      <td>Benin</td>\n",
       "      <td>northwest</td>\n",
       "      <td>April</td>\n",
       "      <td>2018</td>\n",
       "    </tr>\n",
       "    <tr>\n",
       "      <th>4</th>\n",
       "      <td>10105</td>\n",
       "      <td>Andrews</td>\n",
       "      <td>andy@gmail.com</td>\n",
       "      <td>hero</td>\n",
       "      <td>150</td>\n",
       "      <td>200</td>\n",
       "      <td>836</td>\n",
       "      <td>167200</td>\n",
       "      <td>41800</td>\n",
       "      <td>Senegal</td>\n",
       "      <td>northeast</td>\n",
       "      <td>May</td>\n",
       "      <td>2017</td>\n",
       "    </tr>\n",
       "  </tbody>\n",
       "</table>\n",
       "</div>"
      ],
      "text/plain": [
       "   SALES_ID SALES_REP               EMAILS       BRANDS  PLANT_COST  \\\n",
       "0     10101   Jardine       jard@gmail.com       trophy         150   \n",
       "1     10102      Gill      gillhell@uk.com    budweiser         250   \n",
       "2     10103   Sorvino  sorvi2000@gmail.com  castle lite         180   \n",
       "3     10104     Jones    jone.ai@yahoo.com  eagle lager         170   \n",
       "4     10105   Andrews       andy@gmail.com         hero         150   \n",
       "\n",
       "   UNIT_PRICE  QUANTITY    COST  PROFIT COUNTRIES      REGION    MONTHS  YEARS  \n",
       "0         200       725  145000   36250     Ghana   Southeast   January   2019  \n",
       "1         500       815  407500  203750   Nigeria        west  February   2018  \n",
       "2         450       937  421650  252990      Togo  southsouth     March   2018  \n",
       "3         250       765  191250   61200     Benin   northwest     April   2018  \n",
       "4         200       836  167200   41800   Senegal   northeast       May   2017  "
      ]
     },
     "execution_count": 24,
     "metadata": {},
     "output_type": "execute_result"
    }
   ],
   "source": [
    "df.head()"
   ]
  },
  {
   "cell_type": "code",
   "execution_count": 5,
   "id": "76c8a3f2",
   "metadata": {},
   "outputs": [
    {
     "name": "stdout",
     "output_type": "stream",
     "text": [
      "<class 'pandas.core.frame.DataFrame'>\n",
      "RangeIndex: 1047 entries, 0 to 1046\n",
      "Data columns (total 13 columns):\n",
      " #   Column      Non-Null Count  Dtype \n",
      "---  ------      --------------  ----- \n",
      " 0   SALES_ID    1047 non-null   int64 \n",
      " 1   SALES_REP   1047 non-null   object\n",
      " 2   EMAILS      1047 non-null   object\n",
      " 3   BRANDS      1047 non-null   object\n",
      " 4   PLANT_COST  1047 non-null   int64 \n",
      " 5   UNIT_PRICE  1047 non-null   int64 \n",
      " 6   QUANTITY    1047 non-null   int64 \n",
      " 7   COST        1047 non-null   int64 \n",
      " 8   PROFIT      1047 non-null   int64 \n",
      " 9   COUNTRIES   1047 non-null   object\n",
      " 10  REGION      1047 non-null   object\n",
      " 11  MONTHS      1047 non-null   object\n",
      " 12  YEARS       1047 non-null   int64 \n",
      "dtypes: int64(7), object(6)\n",
      "memory usage: 106.5+ KB\n"
     ]
    }
   ],
   "source": [
    "df.info()"
   ]
  },
  {
   "cell_type": "code",
   "execution_count": 6,
   "id": "7a6950c9",
   "metadata": {},
   "outputs": [
    {
     "data": {
      "text/plain": [
       "2017    374\n",
       "2018    360\n",
       "2019    313\n",
       "Name: YEARS, dtype: int64"
      ]
     },
     "execution_count": 6,
     "metadata": {},
     "output_type": "execute_result"
    }
   ],
   "source": [
    "# year with the highest sales\n",
    "df.YEARS.value_counts()"
   ]
  },
  {
   "cell_type": "code",
   "execution_count": 9,
   "id": "66a345c9",
   "metadata": {},
   "outputs": [
    {
     "data": {
      "text/plain": [
       "Jones       186\n",
       "Jardine     136\n",
       "Gill        118\n",
       "Sorvino     107\n",
       "Andrews     107\n",
       "Morgan       79\n",
       "Parent       69\n",
       "Smith        69\n",
       "Kivell       69\n",
       "Thompson     58\n",
       "Howard       49\n",
       "Name: SALES_REP, dtype: int64"
      ]
     },
     "execution_count": 9,
     "metadata": {},
     "output_type": "execute_result"
    }
   ],
   "source": [
    "# total sales for each sales representative\n",
    "df.SALES_REP.value_counts()"
   ]
  },
  {
   "cell_type": "code",
   "execution_count": 10,
   "id": "057214a5",
   "metadata": {},
   "outputs": [
    {
     "data": {
      "text/plain": [
       "YEARS  SALES_REP\n",
       "2017   Jones        55\n",
       "       Jardine      50\n",
       "       Sorvino      48\n",
       "       Gill         44\n",
       "       Andrews      40\n",
       "Name: SALES_REP, dtype: int64"
      ]
     },
     "execution_count": 10,
     "metadata": {},
     "output_type": "execute_result"
    }
   ],
   "source": [
    "# top sales representative in each year\n",
    "df.groupby('YEARS').SALES_REP.value_counts()"
   ]
  },
  {
   "cell_type": "code",
   "execution_count": 15,
   "id": "50d6786e",
   "metadata": {},
   "outputs": [
    {
     "data": {
      "text/plain": [
       "REGION     SALES_REP\n",
       "Southeast  Jones        31\n",
       "           Jardine      23\n",
       "           Gill         21\n",
       "           Andrews      19\n",
       "           Sorvino      16\n",
       "                        ..\n",
       "west       Parent       13\n",
       "           Kivell       11\n",
       "           Smith        10\n",
       "           Howard        9\n",
       "           Thompson      7\n",
       "Name: SALES_REP, Length: 66, dtype: int64"
      ]
     },
     "execution_count": 15,
     "metadata": {},
     "output_type": "execute_result"
    }
   ],
   "source": [
    "# top sales representative in each region\n",
    "df.groupby('REGION').SALES_REP.value_counts()"
   ]
  },
  {
   "cell_type": "code",
   "execution_count": 26,
   "id": "26f522cb",
   "metadata": {},
   "outputs": [
    {
     "data": {
      "text/plain": [
       "COUNTRIES  SALES_REP\n",
       "Benin      Jones        37\n",
       "           Jardine      27\n",
       "           Gill         24\n",
       "           Andrews      22\n",
       "           Sorvino      20\n",
       "Name: SALES_REP, dtype: int64"
      ]
     },
     "execution_count": 26,
     "metadata": {},
     "output_type": "execute_result"
    }
   ],
   "source": [
    "# top sales representative in each country\n",
    "df.groupby('COUNTRIES').SALES_REP.value_counts().head()"
   ]
  },
  {
   "cell_type": "markdown",
   "id": "69502e6d",
   "metadata": {},
   "source": [
    "# Profit Analysis"
   ]
  },
  {
   "cell_type": "code",
   "execution_count": 129,
   "id": "d9f07dab",
   "metadata": {},
   "outputs": [
    {
     "data": {
      "text/plain": [
       "YEARS\n",
       "2017    38503320\n",
       "2018    37063850\n",
       "2019    30020250\n",
       "Name: PROFIT, dtype: int64"
      ]
     },
     "execution_count": 129,
     "metadata": {},
     "output_type": "execute_result"
    }
   ],
   "source": [
    "# Profit worth of breweries in the last three years\n",
    "df.groupby('YEARS').PROFIT.sum()"
   ]
  },
  {
   "cell_type": "code",
   "execution_count": null,
   "id": "b28b2fa1",
   "metadata": {},
   "outputs": [],
   "source": []
  },
  {
   "cell_type": "code",
   "execution_count": 105,
   "id": "0da1b8b9",
   "metadata": {},
   "outputs": [],
   "source": [
    "# convert YEARS to string\n",
    "df.YEARS = df.YEARS.astype(str)"
   ]
  },
  {
   "cell_type": "code",
   "execution_count": 128,
   "id": "672a2fe3",
   "metadata": {},
   "outputs": [
    {
     "data": {
      "image/png": "[encoded data removed]",
      "text/plain": [
       "<Figure size 432x288 with 1 Axes>"
      ]
     },
     "metadata": {
      "needs_background": "light"
     },
     "output_type": "display_data"
    }
   ],
   "source": [
    "plt.bar('YEARS', 'profit', data = df)\n",
    "\n",
    "# Add title\n",
    "plt.title(\"Last three years profit\", size = 16)\n",
    "\n",
    "# Add label\n",
    "plt.ylabel(\"Profit\")\n",
    "\n",
    "plt.show()"
   ]
  },
  {
   "cell_type": "code",
   "execution_count": null,
   "id": "91ff33f6",
   "metadata": {},
   "outputs": [],
   "source": [
    "plt.scatter(data = IceCream, x = 'Temperature', y = 'Revenue', color = 'black', marker = 'v', alpha = 0.3)\n",
    "plt.xlabel('Temperature', size = 16)\n",
    "plt.ylabel('Revenue', size = 16)\n",
    "plt.title('IceCream Sales', size = 16)\n",
    "plt.yticks([0, 200, 400, 600, 800, 1000], ['$0', '$200', '$400', '$600', '$800', '$1000'], size = 13)\n",
    "plt.xticks(size = 13)\n",
    "plt.show()"
   ]
  },
  {
   "cell_type": "markdown",
   "id": "b99da9ea",
   "metadata": {},
   "source": [
    "franchophone = benin, togo, senegal\n",
    "anglophone =  nigeria, ghana"
   ]
  },
  {
   "cell_type": "code",
   "execution_count": 27,
   "id": "4f57cecd",
   "metadata": {},
   "outputs": [
    {
     "data": {
      "text/plain": [
       "trophy         150\n",
       "budweiser      150\n",
       "castle lite    150\n",
       "eagle lager    150\n",
       "hero           149\n",
       "beta malt      149\n",
       "grand malt     149\n",
       "Name: BRANDS, dtype: int64"
      ]
     },
     "execution_count": 27,
     "metadata": {},
     "output_type": "execute_result"
    }
   ],
   "source": [
    "df.BRANDS.value_counts()"
   ]
  },
  {
   "cell_type": "code",
   "execution_count": null,
   "id": "3bf0bcd1",
   "metadata": {},
   "outputs": [],
   "source": [
    "# Set axes limit\n",
    "plt.xlim(2, 8)\n",
    "plt.ylim(-0.50,1.5)"
   ]
  }
 ],
 "metadata": {
  "kernelspec": {
   "display_name": "Python 3 (ipykernel)",
   "language": "python",
   "name": "python3"
  },
  "language_info": {
   "codemirror_mode": {
    "name": "ipython",
    "version": 3
   },
   "file_extension": ".py",
   "mimetype": "text/x-python",
   "name": "python",
   "nbconvert_exporter": "python",
   "pygments_lexer": "ipython3",
   "version": "3.10.4"
  }
 },
 "nbformat": 4,
 "nbformat_minor": 5
}
